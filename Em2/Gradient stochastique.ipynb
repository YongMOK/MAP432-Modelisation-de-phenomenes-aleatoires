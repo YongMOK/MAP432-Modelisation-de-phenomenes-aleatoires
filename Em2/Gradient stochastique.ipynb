{
 "cells": [
  {
   "cell_type": "code",
   "execution_count": 1,
   "metadata": {
    "collapsed": true
   },
   "outputs": [],
   "source": [
    "import numpy as np\n",
    "import matplotlib.pyplot as plt"
   ]
  },
  {
   "cell_type": "markdown",
   "metadata": {},
   "source": [
    "# L'algorithme du gradient stochastique\n",
    "\n",
    "L'algorithme du gradient stochastique permet d'optimiser des fonctions exprimées sous la forme d'une espérance: $f(x) = \\mathbb E [g(x, W)]$.\n",
    " La justification théorique de cet algorithme est expliquée au chapitre 12 dans le polycopié du cours. On s'intéresse ici à quelques cas particuliers de cet algorithme. \n",
    " \n",
    "Dans la suite, on appellera $f$ la **fonction objectif** et $g$ la **fonction objectif partielle**.\n",
    "\n",
    "## 1) Barycentre de points\n",
    " \n",
    "Afin d'illustrer le fonctionnement de l'algorithme, on considère tout d'abord une fonction simple :\n",
    "$$f(x) = \\frac 1n \\sum_{i=1}^n \\lVert x-a_i \\rVert^2$$\n",
    "et on cherche à calculer $\\min_{x \\in \\mathbb R^2} f(x)$.\n",
    "Il n'est pas difficile de montrer que cette fonction convexe atteint un minimum global en $\\bar a = \\frac 1n \\sum_{i=1}^n a_i$.\n",
    "\n",
    "Par ailleurs, en notant $I$ un indice aléatoire choisi uniformément dans $\\{1,...,n\\}$, on peut écrire $f(x) = \\mathbb E [g(x, I)]$ (on notera aussi $g(x, i) = \\frac 1n \\lVert x-a_i \\rVert^2$), et optimiser cette fonction à l'aide du gradient stochastique. Dans la suite, on considère l'exemple des points $(a_i)_{i \\leq 4}$ définis ci-dessous."
   ]
  },
  {
   "cell_type": "code",
   "execution_count": 2,
   "metadata": {
    "collapsed": true
   },
   "outputs": [],
   "source": [
    "A = np.array([[-1,-1],\n",
    "              [1,1],\n",
    "              [-1,1],\n",
    "              [1,-1]], dtype=np.float) # Liste de points"
   ]
  },
  {
   "cell_type": "markdown",
   "metadata": {},
   "source": [
    "**TODO** : La fonction `f` prend un vecteur `x` et renvoie la valeur de la fonction $f$ définie ci-dessus. La fonction `g_grad` prend un vecteur `x` et un entier `i` et retourne le vecteur $\\nabla g(x, i)$."
   ]
  },
  {
   "cell_type": "code",
   "execution_count": null,
   "metadata": {
    "collapsed": true
   },
   "outputs": [],
   "source": [
    "def f(x):\n",
    "    ...\n",
    "    return result\n",
    "\n",
    "def g_grad(x, i):\n",
    "    ...\n",
    "    return result"
   ]
  },
  {
   "cell_type": "markdown",
   "metadata": {},
   "source": [
    "**Algorithme du gradient stochastique** : à chaque étape, on choisit au hasard un indice $I$, et on calcule le gradient de la fonction $g_I(x) = \\frac{1}{n} \\lVert x-a_I \\rVert^2$. On effectue ensuite un pas de descente de gradient pour la fonction $g_I$ : $x' = x - \\gamma \\nabla g_{I}(x)$ (signe moins, car on *minimise* la fonction $f$)."
   ]
  },
  {
   "cell_type": "markdown",
   "metadata": {},
   "source": [
    "**TODO** : Coder la fonction `gradient_stochastique_barycentre`, qui prend en entrée :\n",
    "- un vecteur `x_0` (le point de départ de la descente)\n",
    "- un nombre d'itérations `n_iter`\n",
    "- un coefficient `gamma` pour la taille du pas de gradient\n",
    "\n",
    "et retourne :\n",
    "- la liste `X` des valeurs de $x$\n",
    "- la liste `F` des valeurs de $f(x_k)$ au cours de l'algorithme"
   ]
  },
  {
   "cell_type": "code",
   "execution_count": null,
   "metadata": {
    "collapsed": true
   },
   "outputs": [],
   "source": [
    "def gradient_stochastique_barycentre(x_0, n_iter, gamma):\n",
    "    X = np.zeros((n_iter, 2))\n",
    "    F = np.zeros(n_iter)\n",
    "    X[0] = x_0\n",
    "    F[0] = f(X[0])\n",
    "    for t in range(1, n_iter):\n",
    "        ...\n",
    "    return X, F"
   ]
  },
  {
   "cell_type": "markdown",
   "metadata": {},
   "source": [
    "On donne la fonction suivante, qui prend le résultat de `gradient_stochastique_barycentre` affiche la trajectoire de descente."
   ]
  },
  {
   "cell_type": "code",
   "execution_count": null,
   "metadata": {
    "collapsed": true
   },
   "outputs": [],
   "source": [
    "def plot_descente_barycentre(X, A):\n",
    "    plt.scatter(A[:,0], A[:,1], c=\"r\", s=100, label=r\"$x_i$\")\n",
    "    plt.scatter(X[0,0], X[0,1], c=\"black\", s=20, zorder=10, marker=\"s\", label=\"Start\")\n",
    "    plt.scatter(X[-1,0], X[-1,1], c=\"black\", s=20, zorder=10, marker=\"^\", label=\"End\")\n",
    "    plt.plot(X[:,0], X[:,1], alpha=0.95)\n",
    "    plt.axhline(0, color=\"gray\", zorder=0, linestyle=\"dashed\")\n",
    "    plt.axvline(0, color=\"gray\", zorder=0, linestyle=\"dashed\")\n",
    "    plt.xlim(-1.1,1.1)\n",
    "    plt.ylim(-1.1,1.1)\n",
    "    plt.legend()"
   ]
  },
  {
   "cell_type": "markdown",
   "metadata": {},
   "source": [
    "Essayons d'abord une descente de 300 itérations avec $\\gamma=0.2$. Que se passe-t-il ?"
   ]
  },
  {
   "cell_type": "code",
   "execution_count": null,
   "metadata": {},
   "outputs": [],
   "source": [
    "x_0 = 2*np.random.rand(2)-1 # Choisir un point au hasard dans le carré [-1,1]^2\n",
    "X, F = gradient_stochastique_barycentre(x_0, 300, 0.2)\n",
    "\n",
    "plt.figure(figsize=(11,5))\n",
    "plt.subplot(1,2,1)\n",
    "plot_descente_barycentre(X, A)\n",
    "\n",
    "plt.subplot(1,2,2)\n",
    "plt.plot(F)\n",
    "plt.xlabel(\"Étape de descente\")\n",
    "plt.ylabel(\"Valeur de $f$\")\n",
    "plt.show()"
   ]
  },
  {
   "cell_type": "markdown",
   "metadata": {},
   "source": [
    "On fait maintenant varier le taux de descente $\\gamma$, en gardant $n_{iter}=300$. Qu'observe-t-on ?"
   ]
  },
  {
   "cell_type": "code",
   "execution_count": null,
   "metadata": {
    "collapsed": true
   },
   "outputs": [],
   "source": [
    "gamma_range = [0.2, 0.08, 0.02, 0.01, 0.002]\n",
    "plt.figure(figsize=(20,3.5))\n",
    "for i, gamma in enumerate(gamma_range):\n",
    "    x_0 = 2*np.random.rand(2)-1 # Choisir un point au hasard dans le carré [-1,1]^2 pour commencer\n",
    "    X, F = gradient_stochastique_barycentre(x_0, 300, gamma)\n",
    "    plt.subplot(1, len(gamma_range), i+1)\n",
    "    plt.title(f\"niter = {300}, gamma = {gamma}\")\n",
    "    plot_descente_barycentre(X, A)\n",
    "plt.show()"
   ]
  },
  {
   "cell_type": "markdown",
   "metadata": {},
   "source": [
    "La valeur $\\gamma=0.02$ semble donner le meilleur résultat. On fait à présent varier `n_iter`. Que se passe-t-il ?"
   ]
  },
  {
   "cell_type": "code",
   "execution_count": null,
   "metadata": {
    "collapsed": true
   },
   "outputs": [],
   "source": [
    "gamma = 0.02\n",
    "n_iter_range = [100, 300, 1000, 3000, 10000]\n",
    "plt.figure(figsize=(20,3.5))\n",
    "for i, n_iter in enumerate(n_iter_range):\n",
    "    x_0 = 2*np.random.rand(2)-1 # Choisir un point au hasard dans le carré [-1,1]^2 pour commencer\n",
    "    X, F = gradient_stochastique_barycentre(x_0, n_iter, gamma)\n",
    "    plt.subplot(1, len(gamma_range), i+1)\n",
    "    plt.title(f\"niter = {n_iter}, gamma = {gamma}\")\n",
    "    plot_descente_barycentre(X, A)\n",
    "plt.show()"
   ]
  },
  {
   "cell_type": "markdown",
   "metadata": {},
   "source": [
    "On répète l'expérience avec $\\gamma = 0.04$ :"
   ]
  },
  {
   "cell_type": "code",
   "execution_count": null,
   "metadata": {
    "collapsed": true
   },
   "outputs": [],
   "source": [
    "gamma = 0.04\n",
    "n_iter_range = [100, 300, 1000, 3000, 10000]\n",
    "plt.figure(figsize=(20,3.5))\n",
    "for i, n_iter in enumerate(n_iter_range):\n",
    "    x_0 = 2*np.random.rand(2)-1 # Choisir un point au hasard dans le carré [-1,1]^2 pour commencer\n",
    "    X, F = gradient_stochastique_barycentre(x_0, n_iter, gamma)\n",
    "    plt.subplot(1, len(gamma_range), i+1)\n",
    "    plt.title(f\"niter = {n_iter}, gamma = {gamma}\")\n",
    "    plot_descente_barycentre(X, A)\n",
    "plt.show()"
   ]
  },
  {
   "cell_type": "markdown",
   "metadata": {},
   "source": [
    "On constate que la chaîne de Markov $(x_t)$ converge vers une mesure invariante $\\pi_\\gamma$, dont la dispersion croît avec $\\gamma$."
   ]
  },
  {
   "cell_type": "markdown",
   "metadata": {},
   "source": [
    "**Pas de gradient décroissant** La solution pour converger vers l'optimum consiste à faire varier $\\gamma$ à chaque étape. La théorie garantit que, si $\\sum_t \\gamma_t = +\\infty$ et $\\sum_t \\gamma_t^2 < +\\infty$, alors la suite $(x_t)$ converge presque sûrement vers un point critique de la fonction objectif $f$.\n",
    "\n",
    "On essaye donc $\\gamma_t = \\gamma_0/t^\\alpha$. Pour satisfaire les contraintes théoriques, il suffit de prendre $1/2 < \\alpha < 1$, par exemple $\\alpha = 0.6$."
   ]
  },
  {
   "cell_type": "markdown",
   "metadata": {},
   "source": [
    "**TODO** : Coder la fonction `gradient_stochastique_barycentre_2`, qui adapte la fonction `gradient_stochastique_barycentre` pour inclure la décroissance du pas de gradient décroissant."
   ]
  },
  {
   "cell_type": "code",
   "execution_count": null,
   "metadata": {
    "collapsed": true
   },
   "outputs": [],
   "source": [
    "def gradient_stochastique_barycentre_2(x_0, n_iter, gamma_0):\n",
    "    X = np.zeros((n_iter, 2))\n",
    "    F = np.zeros(n_iter)\n",
    "    X[0] = x_0\n",
    "    F[0] = f(X[0])\n",
    "    for t in range(1, n_iter):\n",
    "        ...\n",
    "    return X, F"
   ]
  },
  {
   "cell_type": "code",
   "execution_count": null,
   "metadata": {
    "collapsed": true
   },
   "outputs": [],
   "source": [
    "n_iter = 500\n",
    "gamma_0 = 0.4\n",
    "x_0 = 2*np.random.rand(2)-1 # Choisir un point au hasard dans le carré [-1,1]^2\n",
    "X, F = gradient_stochastique_barycentre_2(x_0, n_iter, gamma_0)\n",
    "\n",
    "plt.figure(figsize=(11,5))\n",
    "plt.subplot(1,2,1)\n",
    "plot_descente_barycentre(X, A)\n",
    "\n",
    "plt.subplot(1,2,2)\n",
    "plt.plot(F)\n",
    "plt.xlabel(\"Étape de descente\")\n",
    "plt.ylabel(\"Valeur de $f$\")\n",
    "plt.show()"
   ]
  },
  {
   "cell_type": "markdown",
   "metadata": {},
   "source": [
    "## 2) Un problème d'interpolation\n",
    "\n",
    "**Objectif** On s'intéresse à présent à un problème plus général. On se place dans l'intervalle $[0,1]$. On dispose d'un espace vectoriel de dimension finie $F$ de fonction simples sur $[0,1]$, et on aimerait approximer une fonction cible $f^*$ à l'aide de fonctions de $F$. De nombreuses approches sont possibles pour un tel problème, et une des plus classiques consiste à trouver la projection de $f^*$ sur $F$ selon une certaine distance. On cherche donc à résoudre le problème suivant :\n",
    "$$\\min_{f \\in F} d(f, f^*)$$\n",
    "où $d$ peut être par exemple la distance induite par la norme $L^2$. Ce problème est difficile à résoudre dans le cas général. Même dans le cas de la norme $L^2$ (où le problème revient à une projection orthogonale sur $F$), la résolution nécessite le calcul de produits scalaires de fonctions (et donc d'intégrales), qui peuvent rapidement devenir coûteux quand la dimension de l'espace de départ augmente.\n",
    "\n",
    "Les problèmes d'interpolation interviennent constamment en pratique dans des cas plus complexes, notamment en statistiques et en Machine Learning, où l'espace de départ est de dimension très élevée et on ne connaît qu'un nombre restreint de valeurs de $f^*$ corrompues par du bruit. Ici, pour simplifier, on se place en dimension 1 et on suppose que l'on a accès à toutes les valeurs exactes de $f^*$."
   ]
  },
  {
   "cell_type": "code",
   "execution_count": null,
   "metadata": {
    "collapsed": true
   },
   "outputs": [],
   "source": [
    "# Fonction f^* que l'on souhaite approximer\n",
    "def f_star(x):\n",
    "    return np.sin(10*x)+x**2+np.cos(13*x)**2\n",
    "\n",
    "X = np.linspace(0,1,100)\n",
    "plt.plot(X, f_star(X), label=\"Fonction $f^*$\")\n",
    "plt.legend()\n",
    "plt.show()"
   ]
  },
  {
   "cell_type": "markdown",
   "metadata": {},
   "source": [
    "**Famille de fonctions** Dans cet exemple, on choisit pour $F$ l'espace engendré par une famille de courbes de Gauss : $F = \\{f_\\alpha | \\alpha \\in \\mathbb R^m\\}$, avec\n",
    "$$f_\\alpha(x) = \\sum_{i=1}^m \\alpha_i \\exp(-|x-z_i|^2/2\\sigma^2), \\quad z_i = i/m, \\sigma=0.05$$\n",
    "On souhaite donc trouver $\\alpha^*$ solution du problème $\\min_{\\alpha \\in \\mathbb R^m} d(f_\\alpha, f^*)$."
   ]
  },
  {
   "cell_type": "markdown",
   "metadata": {},
   "source": [
    "**TODO** : Coder la fonction `f_simple`, qui prend en entrée :\n",
    "- un nombre `x` (le point de départ de la descente)\n",
    "- un vecteur `alpha` (les coefficients de pondération)\n",
    "\n",
    "et retourne $f_\\alpha(x)$."
   ]
  },
  {
   "cell_type": "code",
   "execution_count": null,
   "metadata": {
    "collapsed": true
   },
   "outputs": [],
   "source": [
    "sigma = 0.05\n",
    "def f_simple(x, alpha):\n",
    "    ...\n",
    "    return f\n",
    "\n",
    "# On génère quelques fonctions aléatoires\n",
    "m = 10\n",
    "X = np.linspace(0,1,100)\n",
    "for i in range(5):\n",
    "    alpha = np.random.randn(m)\n",
    "    F = [f_simple(x, alpha) for x in X]\n",
    "    plt.plot(X, F)\n",
    "plt.title(r\"Quelques fonctions $f_\\alpha$\")\n",
    "plt.show()"
   ]
  },
  {
   "cell_type": "markdown",
   "metadata": {},
   "source": [
    "**Reformulation du problème :** On s'intéresse au cas des normes $L^p$ ($p>1$). On a, à une racine près (qui ne joue pas de rôle dans le problème d'optimisation) :\n",
    "$$d_p(f_\\alpha, f^*) = \\int_{[0,1]} |f_\\alpha(x)-f^*(x)|^p \\mathrm{d}x$$\n",
    "Le gradient de cette fonction en $\\alpha$ est une intégrale sur $[0,1]$, ce qui rend une descente de gradient classique inutilement coûteuse. On remarque cependant qu'on peut réécrire notre problème sous la forme :\n",
    "$$d_p(f_\\alpha, f^*) = \\mathbb{E}[|f_\\alpha(X)-f_\\alpha(X)|^p] = \\mathbb{E}[g_p(\\alpha, X)], \\quad X \\sim \\mathscr U([0,1])\\,,$$\n",
    "où $X$ suit une loi uniforme sur $[0,1]$ et $g_p(\\alpha, x) = |f_\\alpha(x)-f^*(x)|^p$. On se place ainsi dans le cadre de l'algorithme du gradient stochastique. On en déduit donc un algorithme naturel pour estimer $\\alpha^*$ :\n",
    "- Échantillonner $X_t \\sim \\mathscr U([0,1])$\n",
    "- Calculer $\\alpha_{t+1} = \\alpha_t - \\gamma_t \\nabla_\\alpha g_p(\\alpha_t, X_t)$"
   ]
  },
  {
   "cell_type": "markdown",
   "metadata": {},
   "source": [
    "**Calcul du gradient partiel** Dans le cas de la norme $L^p$, on a :\n",
    "$$\\frac{\\partial g_p}{\\partial \\alpha_i}(\\alpha, x) = p\\cdot\\mathrm{sign}(f_\\alpha(x)-f^*(x)) \\cdot \\exp(-|x-z_i|^2/2\\sigma^2) \\cdot|f_\\alpha(x)-f^*(x)|^{p-1}$$"
   ]
  },
  {
   "cell_type": "markdown",
   "metadata": {},
   "source": [
    "On considère la fonction `g_grad`, qui prend en entrée :\n",
    "- un nombre `x` (le point généré dans $[0,1]$)\n",
    "- un vecteur `alpha` (les coefficients de pondération)\n",
    "- un nombre `p` supérieur à 1 (pour la norme $L^p$)\n",
    "\n",
    "et retourne $\\nabla_\\alpha g(\\alpha, x)$."
   ]
  },
  {
   "cell_type": "code",
   "execution_count": null,
   "metadata": {
    "collapsed": true
   },
   "outputs": [],
   "source": [
    "def g_grad(x, alpha, p):\n",
    "    m = len(alpha)\n",
    "    Z = np.arange(m)/m\n",
    "    C = f_simple(x, alpha)-f_star(x)\n",
    "    return p * np.sign(C) * np.exp(-(x-Z)**2/(2*sigma**2)) * np.power(np.abs(C), p-1)"
   ]
  },
  {
   "cell_type": "markdown",
   "metadata": {},
   "source": [
    "On peut à présent implémenter numériquement l'algorithme du gradient stochastique. Afin de mesurer sa progression, on utilise la fonction `objectif_complet` suivante, qui approxime l'intégrale par une somme de Riemann."
   ]
  },
  {
   "cell_type": "code",
   "execution_count": null,
   "metadata": {
    "collapsed": true
   },
   "outputs": [],
   "source": [
    "def objectif_complet(alpha, p):\n",
    "    res = 0\n",
    "    for x in np.linspace(0,1,100):\n",
    "        res += abs(f_simple(x, alpha)-f_star(x))**p\n",
    "    return res/100\n",
    "\n",
    "print(\"Exemple :\", objectif_complet([0,0,1,0,-2], 2))"
   ]
  },
  {
   "cell_type": "markdown",
   "metadata": {},
   "source": [
    "**TODO** : Compléter la fonction `gradient_stochastique_interpolation`, qui prend en entrée :\n",
    "- un vecteur `alpha_0` (le point de départ de la descente)\n",
    "- un nombre d'itérations `n_iter`\n",
    "- un coefficient `gamma_0` pour la taille du pas de gradient initial\n",
    "- un nombre `p` supérieur à 1 (pour la norme $L^p$)\n",
    "- un booléen `calcul_objectif`, qui choisit si la fonction totale `objectif_complet` est appelée au cours du calcul.\n",
    "\n",
    "et retourne :\n",
    "- la liste `Alpha` des valeurs de $\\alpha$\n",
    "- la liste `F` des valeurs de $d(f_\\alpha, f^*)$ au cours de l'algorithme, vide si `calcul_objectif=False`"
   ]
  },
  {
   "cell_type": "code",
   "execution_count": null,
   "metadata": {
    "collapsed": true
   },
   "outputs": [],
   "source": [
    "def gradient_stochastique_interpolation(alpha_0, n_iter, gamma_0, p, calcul_objectif=True):\n",
    "    Alpha = np.zeros((n_iter, len(alpha_0)))\n",
    "    F = []\n",
    "    Alpha[0] = alpha_0\n",
    "    if calcul_objectif: F.append(objectif_complet(Alpha[0], p))\n",
    "    for t in range(1, n_iter):\n",
    "        ...\n",
    "        if t%10==0 and calcul_objectif:\n",
    "            F.append(objectif_complet(Alpha[t], p))\n",
    "    return Alpha, F"
   ]
  },
  {
   "cell_type": "markdown",
   "metadata": {},
   "source": [
    "On donne la fonction suivante pour afficher le résultat de l'interpolation :"
   ]
  },
  {
   "cell_type": "code",
   "execution_count": null,
   "metadata": {
    "collapsed": true
   },
   "outputs": [],
   "source": [
    "def plot_descente_interpolation(alpha):\n",
    "    X = np.linspace(0,1,100)\n",
    "    m = len(alpha)\n",
    "    plt.plot(X, f_star(X), label=\"Target function\")\n",
    "    f_alpha = [f_simple(x, alpha) for x in X]\n",
    "    plt.plot(X, f_alpha, c=\"r\", label=\"Interpolation\")\n",
    "    plt.legend(fontsize=12, loc=4)"
   ]
  },
  {
   "cell_type": "markdown",
   "metadata": {},
   "source": [
    "On peut à présent tester la descente de gradient stochastique. Essayons le cas $\\alpha \\in \\mathbb R^{10}$ ($m=10$).\n",
    "\n",
    "**Remarque :** Si le code s'exécute trop lentement, désactiver l'option `calcul_objectif` accélère beaucoup les calculs."
   ]
  },
  {
   "cell_type": "code",
   "execution_count": null,
   "metadata": {
    "collapsed": true
   },
   "outputs": [],
   "source": [
    "# Exécuter le code plusieurs fois donne des résultats légèrement différents\n",
    "\n",
    "n_iter = 10000\n",
    "gamma_0 = 0.2\n",
    "alpha_0 = np.random.randn(10)\n",
    "p = 2\n",
    "Alpha, F = gradient_stochastique_interpolation(alpha_0, n_iter, gamma_0, p, calcul_objectif=True)\n",
    "\n",
    "plt.figure(figsize=(20,5))\n",
    "plt.subplot(1,2,1)\n",
    "plot_descente_interpolation(Alpha[-1])\n",
    "\n",
    "plt.subplot(1,4,3)\n",
    "plt.semilogy(np.arange(0, n_iter, 10), F)\n",
    "plt.xlabel(\"Étape de descente\", fontsize=13)\n",
    "plt.ylabel(r\"Valeur de $d(f_\\alpha, f^*)$\", fontsize=13)\n",
    "plt.show()\n",
    "\n",
    "if len(F) > 0: print(\"Valeur finale de la distance :\", F[-1])"
   ]
  },
  {
   "cell_type": "markdown",
   "metadata": {},
   "source": [
    "Pour comparer, testons le cas $\\alpha \\in \\mathbb R^{100}$ ($m=100$) :"
   ]
  },
  {
   "cell_type": "code",
   "execution_count": null,
   "metadata": {
    "collapsed": true
   },
   "outputs": [],
   "source": [
    "n_iter = 10000\n",
    "gamma_0 = 0.2\n",
    "alpha_0 = np.random.randn(100)\n",
    "p = 2\n",
    "Alpha, F = gradient_stochastique_interpolation(alpha_0, n_iter, gamma_0, p, calcul_objectif=True)\n",
    "\n",
    "plt.figure(figsize=(20,5))\n",
    "plt.subplot(1,2,1)\n",
    "plot_descente_interpolation(Alpha[-1])\n",
    "\n",
    "plt.subplot(1,4,3)\n",
    "plt.semilogy(F)\n",
    "plt.xlabel(\"Étape de descente\", fontsize=13)\n",
    "plt.ylabel(r\"Valeur de $d(f_\\alpha, f^*)$\", fontsize=13)\n",
    "plt.show()\n",
    "\n",
    "if len(F) > 0: print(\"Valeur finale de la distance :\", F[-1])"
   ]
  },
  {
   "cell_type": "markdown",
   "metadata": {},
   "source": [
    "**TODO** : tester le code de cette section pour différentes valeurs de $\\gamma_0$, $\\sigma$, $m$, et de la norme $p$ utilisée. Selon les paramètres utilisés, on pourra ajuster $\\gamma_0$ si la descente diverge ou converge trop lentement."
   ]
  }
 ],
 "metadata": {
  "kernelspec": {
   "display_name": "Python 3 (ipykernel)",
   "language": "python",
   "name": "python3"
  },
  "language_info": {
   "codemirror_mode": {
    "name": "ipython",
    "version": 3
   },
   "file_extension": ".py",
   "mimetype": "text/x-python",
   "name": "python",
   "nbconvert_exporter": "python",
   "pygments_lexer": "ipython3",
   "version": "3.9.13"
  },
  "widgets": {
   "application/vnd.jupyter.widget-state+json": {
    "state": {
     "00219937a0514a2f86b7bc8473faf33f": {
      "model_module": "@jupyter-widgets/base",
      "model_module_version": "1.2.0",
      "model_name": "LayoutModel",
      "state": {}
     },
     "00b8323798f149ae96b679568bf792d6": {
      "model_module": "@jupyter-widgets/base",
      "model_module_version": "1.2.0",
      "model_name": "LayoutModel",
      "state": {}
     },
     "0184f55859604f80802ec2121fbd283d": {
      "model_module": "@jupyter-widgets/controls",
      "model_module_version": "1.5.0",
      "model_name": "DescriptionStyleModel",
      "state": {
       "description_width": ""
      }
     },
     "022b09c745bc482c9f88a12f8a68ac6a": {
      "model_module": "@jupyter-widgets/base",
      "model_module_version": "1.2.0",
      "model_name": "LayoutModel",
      "state": {}
     },
     "0308dae7f026494d8660de659a19279d": {
      "model_module": "@jupyter-widgets/controls",
      "model_module_version": "1.5.0",
      "model_name": "HBoxModel",
      "state": {
       "children": [
        "IPY_MODEL_8cca33122bb24b11a253fb24724cc681",
        "IPY_MODEL_ebe084d3b64b4d6e959845a51ffc12d9"
       ],
       "layout": "IPY_MODEL_298b3ee6c8414776933436c33ef455c1"
      }
     },
     "05bf6095c75a499ebc8a51848440f4b0": {
      "model_module": "@jupyter-widgets/base",
      "model_module_version": "1.2.0",
      "model_name": "LayoutModel",
      "state": {}
     },
     "05deeb4b446a44c989fb9be695446fac": {
      "model_module": "@jupyter-widgets/controls",
      "model_module_version": "1.5.0",
      "model_name": "HBoxModel",
      "state": {
       "children": [
        "IPY_MODEL_387ca901c9624f37983aad79e11093be",
        "IPY_MODEL_562b7053a68646b0a3048835c124f30c"
       ],
       "layout": "IPY_MODEL_fad1149b071e4369b39ab4ea0abac36c"
      }
     },
     "05e63e9bdf204d5f8e4f2c7c90fc2ffc": {
      "model_module": "@jupyter-widgets/base",
      "model_module_version": "1.2.0",
      "model_name": "LayoutModel",
      "state": {}
     },
     "0658354ea2c3417688d92a8a89a35bc1": {
      "model_module": "@jupyter-widgets/controls",
      "model_module_version": "1.5.0",
      "model_name": "ProgressStyleModel",
      "state": {
       "description_width": "initial"
      }
     },
     "06f705f9a4cd4bccbafa947a1e1cece0": {
      "model_module": "@jupyter-widgets/controls",
      "model_module_version": "1.5.0",
      "model_name": "ProgressStyleModel",
      "state": {
       "description_width": "initial"
      }
     },
     "0b1b58085a3448dbb405d1c4a70a63d8": {
      "model_module": "@jupyter-widgets/base",
      "model_module_version": "1.2.0",
      "model_name": "LayoutModel",
      "state": {}
     },
     "0bf525e3475b4704a150b01b91d785ee": {
      "model_module": "@jupyter-widgets/controls",
      "model_module_version": "1.5.0",
      "model_name": "HBoxModel",
      "state": {
       "children": [
        "IPY_MODEL_2df022ff447f4d3f887f3f793ebcf76b",
        "IPY_MODEL_c2389efaa80e4934b642e3699426e367"
       ],
       "layout": "IPY_MODEL_536ac35ce1a7447baf0044467f3f1289"
      }
     },
     "0cf1e0288448484e83502ebeceefaa34": {
      "model_module": "@jupyter-widgets/controls",
      "model_module_version": "1.5.0",
      "model_name": "HTMLModel",
      "state": {
       "layout": "IPY_MODEL_920912b9bdf14407bf31966cf444f16d",
       "style": "IPY_MODEL_dc7789ac73c04181a7a61eae3a81e150",
       "value": " 469/469 [00:10&lt;00:00, 43.75it/s, loss=-.983]"
      }
     },
     "0d505c292adc4d02affc86aa64d42d80": {
      "model_module": "@jupyter-widgets/controls",
      "model_module_version": "1.5.0",
      "model_name": "IntProgressModel",
      "state": {
       "bar_style": "success",
       "description": "100%",
       "layout": "IPY_MODEL_cc04fe0b01824bc7bf1f6757b8278c79",
       "max": 469,
       "style": "IPY_MODEL_6fbac6db83714b8db7c2e1797b61fbfe",
       "value": 469
      }
     },
     "0e4f282c0da14b41b4dd245bcd3131d7": {
      "model_module": "@jupyter-widgets/controls",
      "model_module_version": "1.5.0",
      "model_name": "HBoxModel",
      "state": {
       "children": [
        "IPY_MODEL_d5d4a17525a94f9fa01141dc88def953",
        "IPY_MODEL_ed1cdd18611c4923a9dc5f899ec669a3"
       ],
       "layout": "IPY_MODEL_3a89615db3ec4510a19716729cef7c16"
      }
     },
     "0ed84abe30854ddea79c1dc5d2466352": {
      "model_module": "@jupyter-widgets/base",
      "model_module_version": "1.2.0",
      "model_name": "LayoutModel",
      "state": {}
     },
     "1069741472644984b4731622ee7ea4b5": {
      "model_module": "@jupyter-widgets/controls",
      "model_module_version": "1.5.0",
      "model_name": "IntProgressModel",
      "state": {
       "bar_style": "success",
       "description": "100%",
       "layout": "IPY_MODEL_4dc5a6814f874b7b9da9474525fc59ca",
       "max": 300,
       "style": "IPY_MODEL_64e4d2b8af5b4bb4a2e87cbb15bad13d",
       "value": 300
      }
     },
     "10adbee3cc294c379b5c6df7ff1e33ea": {
      "model_module": "@jupyter-widgets/controls",
      "model_module_version": "1.5.0",
      "model_name": "HTMLModel",
      "state": {
       "layout": "IPY_MODEL_37080e164c7b4d25a6d446a595622cc5",
       "style": "IPY_MODEL_c64a89fdd636455f8cc05e057fb887d8",
       "value": " 469/469 [01:09&lt;00:00,  6.76it/s, loss=-.927]"
      }
     },
     "10dba7fc959a4f01b7cbd1e8589f3047": {
      "model_module": "@jupyter-widgets/controls",
      "model_module_version": "1.5.0",
      "model_name": "ProgressStyleModel",
      "state": {
       "description_width": "initial"
      }
     },
     "1143225b8d5447109756864ec3834287": {
      "model_module": "@jupyter-widgets/base",
      "model_module_version": "1.2.0",
      "model_name": "LayoutModel",
      "state": {}
     },
     "12a082d26cb747c1b74f50d4031fe71a": {
      "model_module": "@jupyter-widgets/controls",
      "model_module_version": "1.5.0",
      "model_name": "IntProgressModel",
      "state": {
       "bar_style": "success",
       "description": "100%",
       "layout": "IPY_MODEL_30432a5b24e842a99a13d05e97afe5c2",
       "max": 469,
       "style": "IPY_MODEL_b00d52eee8fb4b3ea71ecbfd9ec8d5c5",
       "value": 469
      }
     },
     "15fc7d91d4cb4b96bba368d957dffe9c": {
      "model_module": "@jupyter-widgets/controls",
      "model_module_version": "1.5.0",
      "model_name": "HTMLModel",
      "state": {
       "layout": "IPY_MODEL_93ee70f0c32d4514ad12279f40da63e0",
       "style": "IPY_MODEL_baaa86b15bad4f8695edb6edbddd3f88",
       "value": " 469/469 [06:13&lt;00:00,  1.26it/s, loss=-.86]"
      }
     },
     "1646e52a75c24352ba1aa6416c8d371b": {
      "model_module": "@jupyter-widgets/controls",
      "model_module_version": "1.5.0",
      "model_name": "IntProgressModel",
      "state": {
       "bar_style": "success",
       "description": "100%",
       "layout": "IPY_MODEL_8a24126bb8e940bca3068f1e45f911ef",
       "max": 469,
       "style": "IPY_MODEL_ed9ec0db3eaf49c7bae91a3b711590b0",
       "value": 469
      }
     },
     "16c9d38caf5542cb9f5a6525a53b6577": {
      "model_module": "@jupyter-widgets/controls",
      "model_module_version": "1.5.0",
      "model_name": "HBoxModel",
      "state": {
       "children": [
        "IPY_MODEL_592f91fb93f3485285168a312d05ae53",
        "IPY_MODEL_1ea9a2b5f2e24195b721b16cb1a89b26"
       ],
       "layout": "IPY_MODEL_ecf83a9e275c43bdb810a0cfec93c118"
      }
     },
     "18b6096a64cd4681beb5f06da648c1ea": {
      "model_module": "@jupyter-widgets/base",
      "model_module_version": "1.2.0",
      "model_name": "LayoutModel",
      "state": {}
     },
     "1a594ae03a474600a591027c7a298e90": {
      "model_module": "@jupyter-widgets/base",
      "model_module_version": "1.2.0",
      "model_name": "LayoutModel",
      "state": {}
     },
     "1c0447d9b3f24c05a35e23b45a18e5ab": {
      "model_module": "@jupyter-widgets/base",
      "model_module_version": "1.2.0",
      "model_name": "LayoutModel",
      "state": {}
     },
     "1e2acb6f1cf74149aeee2a8dad0addfb": {
      "model_module": "@jupyter-widgets/base",
      "model_module_version": "1.2.0",
      "model_name": "LayoutModel",
      "state": {}
     },
     "1ea9a2b5f2e24195b721b16cb1a89b26": {
      "model_module": "@jupyter-widgets/controls",
      "model_module_version": "1.5.0",
      "model_name": "HTMLModel",
      "state": {
       "layout": "IPY_MODEL_f8aabacebbb34983850a23e547f56a25",
       "style": "IPY_MODEL_2f728ecde73d4783b62e185b1a3b1198",
       "value": " 469/469 [00:11&lt;00:00, 41.39it/s, loss=-.989]"
      }
     },
     "22033b3a203841c4b8fbf8d9ea7091e7": {
      "model_module": "@jupyter-widgets/base",
      "model_module_version": "1.2.0",
      "model_name": "LayoutModel",
      "state": {}
     },
     "243c48776cd6436a934ffabb130476be": {
      "model_module": "@jupyter-widgets/controls",
      "model_module_version": "1.5.0",
      "model_name": "DescriptionStyleModel",
      "state": {
       "description_width": ""
      }
     },
     "264748bd7fd94d40a549d6211bf5a333": {
      "model_module": "@jupyter-widgets/controls",
      "model_module_version": "1.5.0",
      "model_name": "DescriptionStyleModel",
      "state": {
       "description_width": ""
      }
     },
     "278b5bf1241648bea910d4b17d2fc0b6": {
      "model_module": "@jupyter-widgets/controls",
      "model_module_version": "1.5.0",
      "model_name": "ProgressStyleModel",
      "state": {
       "description_width": "initial"
      }
     },
     "28a97932280d49acbbe997f3111c79c6": {
      "model_module": "@jupyter-widgets/base",
      "model_module_version": "1.2.0",
      "model_name": "LayoutModel",
      "state": {}
     },
     "298b3ee6c8414776933436c33ef455c1": {
      "model_module": "@jupyter-widgets/base",
      "model_module_version": "1.2.0",
      "model_name": "LayoutModel",
      "state": {}
     },
     "2df022ff447f4d3f887f3f793ebcf76b": {
      "model_module": "@jupyter-widgets/controls",
      "model_module_version": "1.5.0",
      "model_name": "IntProgressModel",
      "state": {
       "bar_style": "success",
       "description": "100%",
       "layout": "IPY_MODEL_ff9f29566e8d45ab9991b5439b86bcc4",
       "max": 469,
       "style": "IPY_MODEL_3264b6d24de44c3f86969f41c4c880e7",
       "value": 469
      }
     },
     "2e7e3e18dee44bd997e15847485e7f38": {
      "model_module": "@jupyter-widgets/controls",
      "model_module_version": "1.5.0",
      "model_name": "ProgressStyleModel",
      "state": {
       "description_width": "initial"
      }
     },
     "2f728ecde73d4783b62e185b1a3b1198": {
      "model_module": "@jupyter-widgets/controls",
      "model_module_version": "1.5.0",
      "model_name": "DescriptionStyleModel",
      "state": {
       "description_width": ""
      }
     },
     "2fd07e4e470946ab8ba87eefa92b59d7": {
      "model_module": "@jupyter-widgets/controls",
      "model_module_version": "1.5.0",
      "model_name": "IntProgressModel",
      "state": {
       "bar_style": "success",
       "description": "100%",
       "layout": "IPY_MODEL_fbe69d6fc8134ce59042947bebd5abfc",
       "max": 469,
       "style": "IPY_MODEL_10dba7fc959a4f01b7cbd1e8589f3047",
       "value": 469
      }
     },
     "30432a5b24e842a99a13d05e97afe5c2": {
      "model_module": "@jupyter-widgets/base",
      "model_module_version": "1.2.0",
      "model_name": "LayoutModel",
      "state": {}
     },
     "3264b6d24de44c3f86969f41c4c880e7": {
      "model_module": "@jupyter-widgets/controls",
      "model_module_version": "1.5.0",
      "model_name": "ProgressStyleModel",
      "state": {
       "description_width": "initial"
      }
     },
     "337a31c90be8465db17e5edc939a999c": {
      "model_module": "@jupyter-widgets/controls",
      "model_module_version": "1.5.0",
      "model_name": "IntProgressModel",
      "state": {
       "bar_style": "danger",
       "description": "  0%",
       "layout": "IPY_MODEL_93365096bfbb4b489779f1d8cb3decb0",
       "max": 300,
       "style": "IPY_MODEL_afdc14ee0433410181d05ac09e733809"
      }
     },
     "3701f884d48640d399fd5830ecd42ba4": {
      "model_module": "@jupyter-widgets/base",
      "model_module_version": "1.2.0",
      "model_name": "LayoutModel",
      "state": {}
     },
     "37080e164c7b4d25a6d446a595622cc5": {
      "model_module": "@jupyter-widgets/base",
      "model_module_version": "1.2.0",
      "model_name": "LayoutModel",
      "state": {}
     },
     "387ca901c9624f37983aad79e11093be": {
      "model_module": "@jupyter-widgets/controls",
      "model_module_version": "1.5.0",
      "model_name": "IntProgressModel",
      "state": {
       "bar_style": "danger",
       "description": "  0%",
       "layout": "IPY_MODEL_1143225b8d5447109756864ec3834287",
       "max": 10,
       "style": "IPY_MODEL_278b5bf1241648bea910d4b17d2fc0b6"
      }
     },
     "38ed6dfb1c604198b24ce5dcc71dcb2e": {
      "model_module": "@jupyter-widgets/controls",
      "model_module_version": "1.5.0",
      "model_name": "HTMLModel",
      "state": {
       "layout": "IPY_MODEL_c99ec01fddc841bb89d607b83a238a37",
       "style": "IPY_MODEL_642c13e94e1f4c618cba20454d6bcfb3",
       "value": " 0/300 [00:00&lt;?, ?it/s]"
      }
     },
     "3a786b8b3e744f09bbe4be1db78ca51b": {
      "model_module": "@jupyter-widgets/base",
      "model_module_version": "1.2.0",
      "model_name": "LayoutModel",
      "state": {}
     },
     "3a89615db3ec4510a19716729cef7c16": {
      "model_module": "@jupyter-widgets/base",
      "model_module_version": "1.2.0",
      "model_name": "LayoutModel",
      "state": {}
     },
     "3e787fa9c9af4d4181a36c2a4643fe63": {
      "model_module": "@jupyter-widgets/base",
      "model_module_version": "1.2.0",
      "model_name": "LayoutModel",
      "state": {}
     },
     "3f7ab0831a174f8385f539205c7443d8": {
      "model_module": "@jupyter-widgets/controls",
      "model_module_version": "1.5.0",
      "model_name": "IntProgressModel",
      "state": {
       "bar_style": "success",
       "description": "100%",
       "layout": "IPY_MODEL_b1b96e9ec61d4cdd9634f3473156b886",
       "max": 469,
       "style": "IPY_MODEL_2e7e3e18dee44bd997e15847485e7f38",
       "value": 469
      }
     },
     "4047d2281a534703927054639db7fe32": {
      "model_module": "@jupyter-widgets/controls",
      "model_module_version": "1.5.0",
      "model_name": "HBoxModel",
      "state": {
       "children": [
        "IPY_MODEL_8f05af2b0d844c76b0068b90c0b1e65d",
        "IPY_MODEL_883e264c2756451e9737473077c6d693"
       ],
       "layout": "IPY_MODEL_dbbfb2fc8ba14aafa61aa42bdd8af9e8"
      }
     },
     "412896508c9840aca8497bd5ee4bf181": {
      "model_module": "@jupyter-widgets/base",
      "model_module_version": "1.2.0",
      "model_name": "LayoutModel",
      "state": {}
     },
     "41e86455b235422a9573ac7178e4a75b": {
      "model_module": "@jupyter-widgets/controls",
      "model_module_version": "1.5.0",
      "model_name": "DescriptionStyleModel",
      "state": {
       "description_width": ""
      }
     },
     "428bbc939c5b4a229ffd751e1b7550e5": {
      "model_module": "@jupyter-widgets/base",
      "model_module_version": "1.2.0",
      "model_name": "LayoutModel",
      "state": {}
     },
     "437fd83fe8ce493a912aa673f8ef36e5": {
      "model_module": "@jupyter-widgets/controls",
      "model_module_version": "1.5.0",
      "model_name": "HBoxModel",
      "state": {
       "children": [
        "IPY_MODEL_cd23a9e1c9864a548c29a8135ce93acc",
        "IPY_MODEL_b1aa7c5f15ab42f8a864846d3a6bc449"
       ],
       "layout": "IPY_MODEL_8f4409eeac3a45ccb0c78f1981f97ee0"
      }
     },
     "4591042227344c6b822001c8cd0526fa": {
      "model_module": "@jupyter-widgets/base",
      "model_module_version": "1.2.0",
      "model_name": "LayoutModel",
      "state": {}
     },
     "4885e6c84a784ead9f07736d5705a0e1": {
      "model_module": "@jupyter-widgets/base",
      "model_module_version": "1.2.0",
      "model_name": "LayoutModel",
      "state": {}
     },
     "49419d5a1dda4f14a83405705e0ad59b": {
      "model_module": "@jupyter-widgets/controls",
      "model_module_version": "1.5.0",
      "model_name": "HTMLModel",
      "state": {
       "layout": "IPY_MODEL_4c75d3f49604466a8581c934c9fadd03",
       "style": "IPY_MODEL_554aa5c303114e0e870bb490d1bad283",
       "value": " 469/469 [00:32&lt;00:00, 14.46it/s, loss=-.902]"
      }
     },
     "4a1b0589476e4ca8905cce35ac0b514d": {
      "model_module": "@jupyter-widgets/base",
      "model_module_version": "1.2.0",
      "model_name": "LayoutModel",
      "state": {}
     },
     "4b2921781f8e4e078cac08f2b50075cc": {
      "model_module": "@jupyter-widgets/base",
      "model_module_version": "1.2.0",
      "model_name": "LayoutModel",
      "state": {}
     },
     "4c68e2e096c74f8da945d415e0c11e9a": {
      "model_module": "@jupyter-widgets/controls",
      "model_module_version": "1.5.0",
      "model_name": "ProgressStyleModel",
      "state": {
       "description_width": "initial"
      }
     },
     "4c75d3f49604466a8581c934c9fadd03": {
      "model_module": "@jupyter-widgets/base",
      "model_module_version": "1.2.0",
      "model_name": "LayoutModel",
      "state": {}
     },
     "4dc5a6814f874b7b9da9474525fc59ca": {
      "model_module": "@jupyter-widgets/base",
      "model_module_version": "1.2.0",
      "model_name": "LayoutModel",
      "state": {}
     },
     "4ebfdae624b44ae399b71539b54cca43": {
      "model_module": "@jupyter-widgets/controls",
      "model_module_version": "1.5.0",
      "model_name": "HBoxModel",
      "state": {
       "children": [
        "IPY_MODEL_615f5bb95d504893a8117381a869fe3e",
        "IPY_MODEL_ae6b130b2bd94d96afa31eeb7581e32b"
       ],
       "layout": "IPY_MODEL_1a594ae03a474600a591027c7a298e90"
      }
     },
     "4f7d3438d0ed4f5d962662bfc5d8c538": {
      "model_module": "@jupyter-widgets/controls",
      "model_module_version": "1.5.0",
      "model_name": "DescriptionStyleModel",
      "state": {
       "description_width": ""
      }
     },
     "536ac35ce1a7447baf0044467f3f1289": {
      "model_module": "@jupyter-widgets/base",
      "model_module_version": "1.2.0",
      "model_name": "LayoutModel",
      "state": {}
     },
     "554aa5c303114e0e870bb490d1bad283": {
      "model_module": "@jupyter-widgets/controls",
      "model_module_version": "1.5.0",
      "model_name": "DescriptionStyleModel",
      "state": {
       "description_width": ""
      }
     },
     "562b7053a68646b0a3048835c124f30c": {
      "model_module": "@jupyter-widgets/controls",
      "model_module_version": "1.5.0",
      "model_name": "HTMLModel",
      "state": {
       "layout": "IPY_MODEL_6ea65cc25292472b9dc07823c71f89c5",
       "style": "IPY_MODEL_5aaac99a26a642709aa281f1082ba1c9",
       "value": " 0/10 [00:00&lt;?, ?it/s]"
      }
     },
     "5727a4351f3d4912991ffef75b4c2137": {
      "model_module": "@jupyter-widgets/controls",
      "model_module_version": "1.5.0",
      "model_name": "HBoxModel",
      "state": {
       "children": [
        "IPY_MODEL_8ee41a6be98b4248a202740970f686f6",
        "IPY_MODEL_c24876de14054b24bf9200ea31c9cb96"
       ],
       "layout": "IPY_MODEL_8141d5c6d38244a090b24f5a8a4bea36"
      }
     },
     "57bb7288d0d24740be5bbde9621c2fc1": {
      "model_module": "@jupyter-widgets/controls",
      "model_module_version": "1.5.0",
      "model_name": "HTMLModel",
      "state": {
       "layout": "IPY_MODEL_896854ce0ed44f91a681c5780f29ba1b",
       "style": "IPY_MODEL_dc5351f5abc04c37a26bd084a96efa73",
       "value": " 469/469 [01:59&lt;00:00,  3.92it/s, loss=-.881]"
      }
     },
     "592f91fb93f3485285168a312d05ae53": {
      "model_module": "@jupyter-widgets/controls",
      "model_module_version": "1.5.0",
      "model_name": "IntProgressModel",
      "state": {
       "bar_style": "success",
       "description": "100%",
       "layout": "IPY_MODEL_b12b22db1175420fa6810e7508db0c25",
       "max": 469,
       "style": "IPY_MODEL_e191dfe8d5174bcea0686238a3a08c15",
       "value": 469
      }
     },
     "59b445fcd5804f779360d66ca46f1990": {
      "model_module": "@jupyter-widgets/controls",
      "model_module_version": "1.5.0",
      "model_name": "DescriptionStyleModel",
      "state": {
       "description_width": ""
      }
     },
     "5aaac99a26a642709aa281f1082ba1c9": {
      "model_module": "@jupyter-widgets/controls",
      "model_module_version": "1.5.0",
      "model_name": "DescriptionStyleModel",
      "state": {
       "description_width": ""
      }
     },
     "612364ba3097450a9d97f4f4a53afa8b": {
      "model_module": "@jupyter-widgets/controls",
      "model_module_version": "1.5.0",
      "model_name": "IntProgressModel",
      "state": {
       "bar_style": "success",
       "description": "100%",
       "layout": "IPY_MODEL_c3a778c8dfce45668550c4b8cc7fd237",
       "max": 10000,
       "style": "IPY_MODEL_798639149b2e4682a49a753a4eecf332",
       "value": 10000
      }
     },
     "615f5bb95d504893a8117381a869fe3e": {
      "model_module": "@jupyter-widgets/controls",
      "model_module_version": "1.5.0",
      "model_name": "IntProgressModel",
      "state": {
       "bar_style": "success",
       "description": "100%",
       "layout": "IPY_MODEL_b7ec31edef4e431d84dbe47776b4cea9",
       "max": 10000,
       "style": "IPY_MODEL_bf5bdaae076c44b6abd2f286598ee687",
       "value": 10000
      }
     },
     "63d00b8ddafb4394bc75b8011a1da436": {
      "model_module": "@jupyter-widgets/controls",
      "model_module_version": "1.5.0",
      "model_name": "IntProgressModel",
      "state": {
       "bar_style": "success",
       "description": "100%",
       "layout": "IPY_MODEL_4b2921781f8e4e078cac08f2b50075cc",
       "max": 469,
       "style": "IPY_MODEL_66a1352571d04456b9604486a40c2e32",
       "value": 469
      }
     },
     "6420bfdfd7c746dcb4b74c0f179b75c8": {
      "model_module": "@jupyter-widgets/base",
      "model_module_version": "1.2.0",
      "model_name": "LayoutModel",
      "state": {}
     },
     "642c13e94e1f4c618cba20454d6bcfb3": {
      "model_module": "@jupyter-widgets/controls",
      "model_module_version": "1.5.0",
      "model_name": "DescriptionStyleModel",
      "state": {
       "description_width": ""
      }
     },
     "64d33dfa2ca646a69a78b367a2c67657": {
      "model_module": "@jupyter-widgets/controls",
      "model_module_version": "1.5.0",
      "model_name": "ProgressStyleModel",
      "state": {
       "description_width": "initial"
      }
     },
     "64e4d2b8af5b4bb4a2e87cbb15bad13d": {
      "model_module": "@jupyter-widgets/controls",
      "model_module_version": "1.5.0",
      "model_name": "ProgressStyleModel",
      "state": {
       "description_width": "initial"
      }
     },
     "66a1352571d04456b9604486a40c2e32": {
      "model_module": "@jupyter-widgets/controls",
      "model_module_version": "1.5.0",
      "model_name": "ProgressStyleModel",
      "state": {
       "description_width": "initial"
      }
     },
     "671d7d5ba8174dbd8d49d82e76c6d727": {
      "model_module": "@jupyter-widgets/controls",
      "model_module_version": "1.5.0",
      "model_name": "DescriptionStyleModel",
      "state": {
       "description_width": ""
      }
     },
     "67718ebba4074db399af6c883594c348": {
      "model_module": "@jupyter-widgets/base",
      "model_module_version": "1.2.0",
      "model_name": "LayoutModel",
      "state": {}
     },
     "685ae38cd6a24eb484e251feaf02cc41": {
      "model_module": "@jupyter-widgets/controls",
      "model_module_version": "1.5.0",
      "model_name": "IntProgressModel",
      "state": {
       "bar_style": "success",
       "description": "100%",
       "layout": "IPY_MODEL_b467027ee2df4853ae6c627fb5656227",
       "max": 300,
       "style": "IPY_MODEL_9adda78cecdb450eb78b486aeb50782d",
       "value": 300
      }
     },
     "687bfd28478a4f86b21866c9683ea042": {
      "model_module": "@jupyter-widgets/controls",
      "model_module_version": "1.5.0",
      "model_name": "HTMLModel",
      "state": {
       "layout": "IPY_MODEL_3e787fa9c9af4d4181a36c2a4643fe63",
       "style": "IPY_MODEL_b5611d4a20d7441a966eb9aff7a85e1b",
       "value": " 469/469 [00:27&lt;00:00, 16.92it/s, loss=-.729]"
      }
     },
     "6a94077372d74ce192487bd12f8a7993": {
      "model_module": "@jupyter-widgets/controls",
      "model_module_version": "1.5.0",
      "model_name": "HBoxModel",
      "state": {
       "children": [
        "IPY_MODEL_337a31c90be8465db17e5edc939a999c",
        "IPY_MODEL_38ed6dfb1c604198b24ce5dcc71dcb2e"
       ],
       "layout": "IPY_MODEL_00219937a0514a2f86b7bc8473faf33f"
      }
     },
     "6b06cf308eb4489b98364d8c87bbc07a": {
      "model_module": "@jupyter-widgets/base",
      "model_module_version": "1.2.0",
      "model_name": "LayoutModel",
      "state": {}
     },
     "6bd35bba59474e7b926f953900314e51": {
      "model_module": "@jupyter-widgets/controls",
      "model_module_version": "1.5.0",
      "model_name": "DescriptionStyleModel",
      "state": {
       "description_width": ""
      }
     },
     "6c6c350969db4507a36ce79ee7bc8ec2": {
      "model_module": "@jupyter-widgets/base",
      "model_module_version": "1.2.0",
      "model_name": "LayoutModel",
      "state": {}
     },
     "6c723fb4c49b48d0bbf81f6a1fc9acfa": {
      "model_module": "@jupyter-widgets/controls",
      "model_module_version": "1.5.0",
      "model_name": "HTMLModel",
      "state": {
       "layout": "IPY_MODEL_22033b3a203841c4b8fbf8d9ea7091e7",
       "style": "IPY_MODEL_b63b7225e5d94ceba1f4897bf67c23d5",
       "value": " 300/300 [00:00&lt;00:00, 342.25it/s]"
      }
     },
     "6d6488b58f84471fbb8f7cbebab4b182": {
      "model_module": "@jupyter-widgets/controls",
      "model_module_version": "1.5.0",
      "model_name": "IntProgressModel",
      "state": {
       "bar_style": "success",
       "description": "100%",
       "layout": "IPY_MODEL_9e38be5b8a3c404c85ec2073bd5eb40d",
       "max": 469,
       "style": "IPY_MODEL_9749be8a57aa4dcdae95f323ca97af34",
       "value": 469
      }
     },
     "6e0baa8a9464474aa175ff0c9ef1833d": {
      "model_module": "@jupyter-widgets/base",
      "model_module_version": "1.2.0",
      "model_name": "LayoutModel",
      "state": {}
     },
     "6ea1ae68a58e4787b9f39e8bff0281be": {
      "model_module": "@jupyter-widgets/controls",
      "model_module_version": "1.5.0",
      "model_name": "HBoxModel",
      "state": {
       "children": [
        "IPY_MODEL_1069741472644984b4731622ee7ea4b5",
        "IPY_MODEL_6c723fb4c49b48d0bbf81f6a1fc9acfa"
       ],
       "layout": "IPY_MODEL_4a1b0589476e4ca8905cce35ac0b514d"
      }
     },
     "6ea65cc25292472b9dc07823c71f89c5": {
      "model_module": "@jupyter-widgets/base",
      "model_module_version": "1.2.0",
      "model_name": "LayoutModel",
      "state": {}
     },
     "6fbac6db83714b8db7c2e1797b61fbfe": {
      "model_module": "@jupyter-widgets/controls",
      "model_module_version": "1.5.0",
      "model_name": "ProgressStyleModel",
      "state": {
       "description_width": "initial"
      }
     },
     "70669da285b54d10ad28f1af78a1aecd": {
      "model_module": "@jupyter-widgets/base",
      "model_module_version": "1.2.0",
      "model_name": "LayoutModel",
      "state": {}
     },
     "723aba8fc7634ec08de8771c0e79e0a9": {
      "model_module": "@jupyter-widgets/base",
      "model_module_version": "1.2.0",
      "model_name": "LayoutModel",
      "state": {}
     },
     "736b7a06238241d2948b8117fe625a9a": {
      "model_module": "@jupyter-widgets/base",
      "model_module_version": "1.2.0",
      "model_name": "LayoutModel",
      "state": {}
     },
     "73826ae9f12c4470b11778f3c5591b25": {
      "model_module": "@jupyter-widgets/controls",
      "model_module_version": "1.5.0",
      "model_name": "HBoxModel",
      "state": {
       "children": [
        "IPY_MODEL_b5ef7d4d15a14d45ac4d6ddeb25782ba",
        "IPY_MODEL_d86fb30688d94f6581bce1a529a3850f"
       ],
       "layout": "IPY_MODEL_3701f884d48640d399fd5830ecd42ba4"
      }
     },
     "74ffdd1608a942188be3955c32a5d19e": {
      "model_module": "@jupyter-widgets/controls",
      "model_module_version": "1.5.0",
      "model_name": "DescriptionStyleModel",
      "state": {
       "description_width": ""
      }
     },
     "77816c8c74104c389ee564bbb616cae1": {
      "model_module": "@jupyter-widgets/controls",
      "model_module_version": "1.5.0",
      "model_name": "HBoxModel",
      "state": {
       "children": [
        "IPY_MODEL_63d00b8ddafb4394bc75b8011a1da436",
        "IPY_MODEL_b760fe50304a4f2895afdab100ff1e81"
       ],
       "layout": "IPY_MODEL_28a97932280d49acbbe997f3111c79c6"
      }
     },
     "784a12c0e0544266b40633001574a755": {
      "model_module": "@jupyter-widgets/controls",
      "model_module_version": "1.5.0",
      "model_name": "DescriptionStyleModel",
      "state": {
       "description_width": ""
      }
     },
     "79176d81dcb04cdfa101dacc96a0ca19": {
      "model_module": "@jupyter-widgets/controls",
      "model_module_version": "1.5.0",
      "model_name": "ProgressStyleModel",
      "state": {
       "description_width": "initial"
      }
     },
     "791b732ab33a48b8aee2cb0d82838845": {
      "model_module": "@jupyter-widgets/controls",
      "model_module_version": "1.5.0",
      "model_name": "DescriptionStyleModel",
      "state": {
       "description_width": ""
      }
     },
     "798639149b2e4682a49a753a4eecf332": {
      "model_module": "@jupyter-widgets/controls",
      "model_module_version": "1.5.0",
      "model_name": "ProgressStyleModel",
      "state": {
       "description_width": "initial"
      }
     },
     "7a837b9b9d224fc38d47b39214b631b8": {
      "model_module": "@jupyter-widgets/controls",
      "model_module_version": "1.5.0",
      "model_name": "ProgressStyleModel",
      "state": {
       "description_width": "initial"
      }
     },
     "7b5b89840e654f27b11cc92595744a16": {
      "model_module": "@jupyter-widgets/controls",
      "model_module_version": "1.5.0",
      "model_name": "DescriptionStyleModel",
      "state": {
       "description_width": ""
      }
     },
     "8141d5c6d38244a090b24f5a8a4bea36": {
      "model_module": "@jupyter-widgets/base",
      "model_module_version": "1.2.0",
      "model_name": "LayoutModel",
      "state": {}
     },
     "85cb4e1c084e4806a4457723db3846ed": {
      "model_module": "@jupyter-widgets/controls",
      "model_module_version": "1.5.0",
      "model_name": "HBoxModel",
      "state": {
       "children": [
        "IPY_MODEL_612364ba3097450a9d97f4f4a53afa8b",
        "IPY_MODEL_de52b2af74c24ff6bb44f8884b63f81a"
       ],
       "layout": "IPY_MODEL_917c9bd76c1e4215a5f6f5d1621d9913"
      }
     },
     "883e264c2756451e9737473077c6d693": {
      "model_module": "@jupyter-widgets/controls",
      "model_module_version": "1.5.0",
      "model_name": "HTMLModel",
      "state": {
       "layout": "IPY_MODEL_6420bfdfd7c746dcb4b74c0f179b75c8",
       "style": "IPY_MODEL_41e86455b235422a9573ac7178e4a75b",
       "value": " 469/469 [00:16&lt;00:00, 28.14it/s, loss=-.843]"
      }
     },
     "896854ce0ed44f91a681c5780f29ba1b": {
      "model_module": "@jupyter-widgets/base",
      "model_module_version": "1.2.0",
      "model_name": "LayoutModel",
      "state": {}
     },
     "8a24126bb8e940bca3068f1e45f911ef": {
      "model_module": "@jupyter-widgets/base",
      "model_module_version": "1.2.0",
      "model_name": "LayoutModel",
      "state": {}
     },
     "8cca33122bb24b11a253fb24724cc681": {
      "model_module": "@jupyter-widgets/controls",
      "model_module_version": "1.5.0",
      "model_name": "IntProgressModel",
      "state": {
       "bar_style": "success",
       "description": "100%",
       "layout": "IPY_MODEL_4885e6c84a784ead9f07736d5705a0e1",
       "max": 469,
       "style": "IPY_MODEL_afe95e56bf7740468f0f0006e9b95655",
       "value": 469
      }
     },
     "8de866f2d15649958acd02f8d7aeb51c": {
      "model_module": "@jupyter-widgets/base",
      "model_module_version": "1.2.0",
      "model_name": "LayoutModel",
      "state": {}
     },
     "8ee41a6be98b4248a202740970f686f6": {
      "model_module": "@jupyter-widgets/controls",
      "model_module_version": "1.5.0",
      "model_name": "IntProgressModel",
      "state": {
       "bar_style": "success",
       "description": "100%",
       "layout": "IPY_MODEL_9fcb323195b94b83aff9801823d7cd4c",
       "max": 469,
       "style": "IPY_MODEL_9176ea4493ce47f39eb630649fd8f292",
       "value": 469
      }
     },
     "8f05af2b0d844c76b0068b90c0b1e65d": {
      "model_module": "@jupyter-widgets/controls",
      "model_module_version": "1.5.0",
      "model_name": "IntProgressModel",
      "state": {
       "bar_style": "success",
       "description": "100%",
       "layout": "IPY_MODEL_d1b4a052334b4eec9054aaa9ea2c7cce",
       "max": 469,
       "style": "IPY_MODEL_c0008de7220b403081e6056b2ac8c70b",
       "value": 469
      }
     },
     "8f1c0a04a7d84bc3836f565abd0946d0": {
      "model_module": "@jupyter-widgets/controls",
      "model_module_version": "1.5.0",
      "model_name": "HTMLModel",
      "state": {
       "layout": "IPY_MODEL_d773cacb10f54a06975b0bc9affd7cb3",
       "style": "IPY_MODEL_b798f805bdbf42699232c2502c4fa0df",
       "value": " 10000/10000 [48:16&lt;00:00,  3.45it/s]"
      }
     },
     "8f40369ffddc4a74b910d68c6cac23bf": {
      "model_module": "@jupyter-widgets/controls",
      "model_module_version": "1.5.0",
      "model_name": "DescriptionStyleModel",
      "state": {
       "description_width": ""
      }
     },
     "8f4409eeac3a45ccb0c78f1981f97ee0": {
      "model_module": "@jupyter-widgets/base",
      "model_module_version": "1.2.0",
      "model_name": "LayoutModel",
      "state": {}
     },
     "90bef24137c64e108c7626b509dee514": {
      "model_module": "@jupyter-widgets/controls",
      "model_module_version": "1.5.0",
      "model_name": "HBoxModel",
      "state": {
       "children": [
        "IPY_MODEL_0d505c292adc4d02affc86aa64d42d80",
        "IPY_MODEL_49419d5a1dda4f14a83405705e0ad59b"
       ],
       "layout": "IPY_MODEL_6e0baa8a9464474aa175ff0c9ef1833d"
      }
     },
     "9176ea4493ce47f39eb630649fd8f292": {
      "model_module": "@jupyter-widgets/controls",
      "model_module_version": "1.5.0",
      "model_name": "ProgressStyleModel",
      "state": {
       "description_width": "initial"
      }
     },
     "917c9bd76c1e4215a5f6f5d1621d9913": {
      "model_module": "@jupyter-widgets/base",
      "model_module_version": "1.2.0",
      "model_name": "LayoutModel",
      "state": {}
     },
     "918c6bb6084c416aa62fd794624706f5": {
      "model_module": "@jupyter-widgets/controls",
      "model_module_version": "1.5.0",
      "model_name": "HBoxModel",
      "state": {
       "children": [
        "IPY_MODEL_d92762a270ea46bea27aeaef1a56a2ab",
        "IPY_MODEL_0cf1e0288448484e83502ebeceefaa34"
       ],
       "layout": "IPY_MODEL_022b09c745bc482c9f88a12f8a68ac6a"
      }
     },
     "920912b9bdf14407bf31966cf444f16d": {
      "model_module": "@jupyter-widgets/base",
      "model_module_version": "1.2.0",
      "model_name": "LayoutModel",
      "state": {}
     },
     "9289cb574edd4c40a5dfe8abd54f8a7f": {
      "model_module": "@jupyter-widgets/controls",
      "model_module_version": "1.5.0",
      "model_name": "IntProgressModel",
      "state": {
       "bar_style": "success",
       "description": "100%",
       "layout": "IPY_MODEL_a1b2167f5a4c40b98cdc7d665a19495c",
       "max": 10000,
       "style": "IPY_MODEL_b6afa3e894ff4f68ae2910264eb3825e",
       "value": 10000
      }
     },
     "93365096bfbb4b489779f1d8cb3decb0": {
      "model_module": "@jupyter-widgets/base",
      "model_module_version": "1.2.0",
      "model_name": "LayoutModel",
      "state": {}
     },
     "93ee70f0c32d4514ad12279f40da63e0": {
      "model_module": "@jupyter-widgets/base",
      "model_module_version": "1.2.0",
      "model_name": "LayoutModel",
      "state": {}
     },
     "9749be8a57aa4dcdae95f323ca97af34": {
      "model_module": "@jupyter-widgets/controls",
      "model_module_version": "1.5.0",
      "model_name": "ProgressStyleModel",
      "state": {
       "description_width": "initial"
      }
     },
     "9adda78cecdb450eb78b486aeb50782d": {
      "model_module": "@jupyter-widgets/controls",
      "model_module_version": "1.5.0",
      "model_name": "ProgressStyleModel",
      "state": {
       "description_width": "initial"
      }
     },
     "9c1816a06c1e442d838f9f9da81f65d1": {
      "model_module": "@jupyter-widgets/base",
      "model_module_version": "1.2.0",
      "model_name": "LayoutModel",
      "state": {}
     },
     "9d123da1a6af4c06aa01ebfb79dfac2e": {
      "model_module": "@jupyter-widgets/base",
      "model_module_version": "1.2.0",
      "model_name": "LayoutModel",
      "state": {}
     },
     "9d8a80765a094c67958269923d244510": {
      "model_module": "@jupyter-widgets/base",
      "model_module_version": "1.2.0",
      "model_name": "LayoutModel",
      "state": {}
     },
     "9e38be5b8a3c404c85ec2073bd5eb40d": {
      "model_module": "@jupyter-widgets/base",
      "model_module_version": "1.2.0",
      "model_name": "LayoutModel",
      "state": {}
     },
     "9e4290ead8344db08c59dd6d93bdf8a6": {
      "model_module": "@jupyter-widgets/controls",
      "model_module_version": "1.5.0",
      "model_name": "HTMLModel",
      "state": {
       "layout": "IPY_MODEL_1c0447d9b3f24c05a35e23b45a18e5ab",
       "style": "IPY_MODEL_c0d30eb101a64d0bbb28c82e64b0d1bc",
       "value": " 469/469 [05:40&lt;00:00,  1.38it/s, loss=-.994]"
      }
     },
     "9fcb323195b94b83aff9801823d7cd4c": {
      "model_module": "@jupyter-widgets/base",
      "model_module_version": "1.2.0",
      "model_name": "LayoutModel",
      "state": {}
     },
     "a0ccde87d739424ea595d77ab8c49b92": {
      "model_module": "@jupyter-widgets/base",
      "model_module_version": "1.2.0",
      "model_name": "LayoutModel",
      "state": {}
     },
     "a1b2167f5a4c40b98cdc7d665a19495c": {
      "model_module": "@jupyter-widgets/base",
      "model_module_version": "1.2.0",
      "model_name": "LayoutModel",
      "state": {}
     },
     "a2ca3faf5c1b4c3bba0453d951e433b6": {
      "model_module": "@jupyter-widgets/base",
      "model_module_version": "1.2.0",
      "model_name": "LayoutModel",
      "state": {}
     },
     "a376ce31139946e9b4b3927ca7d816de": {
      "model_module": "@jupyter-widgets/base",
      "model_module_version": "1.2.0",
      "model_name": "LayoutModel",
      "state": {}
     },
     "a5d7711bd4e8454fa6746fd23c5673af": {
      "model_module": "@jupyter-widgets/controls",
      "model_module_version": "1.5.0",
      "model_name": "HTMLModel",
      "state": {
       "layout": "IPY_MODEL_8de866f2d15649958acd02f8d7aeb51c",
       "style": "IPY_MODEL_243c48776cd6436a934ffabb130476be",
       "value": " 469/469 [02:16&lt;00:00,  3.44it/s, loss=-.867]"
      }
     },
     "a61c56c4ef6142c3a73f3284789888d6": {
      "model_module": "@jupyter-widgets/controls",
      "model_module_version": "1.5.0",
      "model_name": "HBoxModel",
      "state": {
       "children": [
        "IPY_MODEL_685ae38cd6a24eb484e251feaf02cc41",
        "IPY_MODEL_d8f66b935e234db89de7026add549b5d"
       ],
       "layout": "IPY_MODEL_67718ebba4074db399af6c883594c348"
      }
     },
     "a6ef52e2e6cb48099a492f5956545862": {
      "model_module": "@jupyter-widgets/base",
      "model_module_version": "1.2.0",
      "model_name": "LayoutModel",
      "state": {}
     },
     "a87d6e0e57874875b8070ede40f3594f": {
      "model_module": "@jupyter-widgets/controls",
      "model_module_version": "1.5.0",
      "model_name": "IntProgressModel",
      "state": {
       "bar_style": "success",
       "description": "100%",
       "layout": "IPY_MODEL_c11fcc23aeb244b581b47d0d05c43723",
       "max": 469,
       "style": "IPY_MODEL_79176d81dcb04cdfa101dacc96a0ca19",
       "value": 469
      }
     },
     "aae1a856125b4c4bbdbb02188f455789": {
      "model_module": "@jupyter-widgets/controls",
      "model_module_version": "1.5.0",
      "model_name": "IntProgressModel",
      "state": {
       "bar_style": "success",
       "description": "100%",
       "layout": "IPY_MODEL_a2ca3faf5c1b4c3bba0453d951e433b6",
       "max": 469,
       "style": "IPY_MODEL_4c68e2e096c74f8da945d415e0c11e9a",
       "value": 469
      }
     },
     "ab3e8f0db20b452283c202706bfd3cd0": {
      "model_module": "@jupyter-widgets/controls",
      "model_module_version": "1.5.0",
      "model_name": "ProgressStyleModel",
      "state": {
       "description_width": "initial"
      }
     },
     "abd8b4801f8f4daa813fccc52c3fa2af": {
      "model_module": "@jupyter-widgets/base",
      "model_module_version": "1.2.0",
      "model_name": "LayoutModel",
      "state": {}
     },
     "aca1e0d89aa5450da47532a3a94b39c2": {
      "model_module": "@jupyter-widgets/controls",
      "model_module_version": "1.5.0",
      "model_name": "IntProgressModel",
      "state": {
       "bar_style": "danger",
       "description": "  0%",
       "layout": "IPY_MODEL_412896508c9840aca8497bd5ee4bf181",
       "max": 300,
       "style": "IPY_MODEL_b092603e458b428690f91bd501e2153e"
      }
     },
     "acd3f2aa02b8439fa9d2458c44e12864": {
      "model_module": "@jupyter-widgets/controls",
      "model_module_version": "1.5.0",
      "model_name": "DescriptionStyleModel",
      "state": {
       "description_width": ""
      }
     },
     "ae6b130b2bd94d96afa31eeb7581e32b": {
      "model_module": "@jupyter-widgets/controls",
      "model_module_version": "1.5.0",
      "model_name": "HTMLModel",
      "state": {
       "layout": "IPY_MODEL_9d8a80765a094c67958269923d244510",
       "style": "IPY_MODEL_6bd35bba59474e7b926f953900314e51",
       "value": " 10000/10000 [03:30&lt;00:00, 47.52it/s]"
      }
     },
     "afdc14ee0433410181d05ac09e733809": {
      "model_module": "@jupyter-widgets/controls",
      "model_module_version": "1.5.0",
      "model_name": "ProgressStyleModel",
      "state": {
       "description_width": "initial"
      }
     },
     "afe95e56bf7740468f0f0006e9b95655": {
      "model_module": "@jupyter-widgets/controls",
      "model_module_version": "1.5.0",
      "model_name": "ProgressStyleModel",
      "state": {
       "description_width": "initial"
      }
     },
     "b00d52eee8fb4b3ea71ecbfd9ec8d5c5": {
      "model_module": "@jupyter-widgets/controls",
      "model_module_version": "1.5.0",
      "model_name": "ProgressStyleModel",
      "state": {
       "description_width": "initial"
      }
     },
     "b07b14b0f26f47e1bffbefcf4d5240e6": {
      "model_module": "@jupyter-widgets/controls",
      "model_module_version": "1.5.0",
      "model_name": "DescriptionStyleModel",
      "state": {
       "description_width": ""
      }
     },
     "b092603e458b428690f91bd501e2153e": {
      "model_module": "@jupyter-widgets/controls",
      "model_module_version": "1.5.0",
      "model_name": "ProgressStyleModel",
      "state": {
       "description_width": "initial"
      }
     },
     "b12b22db1175420fa6810e7508db0c25": {
      "model_module": "@jupyter-widgets/base",
      "model_module_version": "1.2.0",
      "model_name": "LayoutModel",
      "state": {}
     },
     "b1aa7c5f15ab42f8a864846d3a6bc449": {
      "model_module": "@jupyter-widgets/controls",
      "model_module_version": "1.5.0",
      "model_name": "HTMLModel",
      "state": {
       "layout": "IPY_MODEL_428bbc939c5b4a229ffd751e1b7550e5",
       "style": "IPY_MODEL_acd3f2aa02b8439fa9d2458c44e12864",
       "value": " 469/469 [00:33&lt;00:00, 13.94it/s, loss=-.88]"
      }
     },
     "b1b96e9ec61d4cdd9634f3473156b886": {
      "model_module": "@jupyter-widgets/base",
      "model_module_version": "1.2.0",
      "model_name": "LayoutModel",
      "state": {}
     },
     "b31013fd16744caea32df8cb9a450c41": {
      "model_module": "@jupyter-widgets/controls",
      "model_module_version": "1.5.0",
      "model_name": "HBoxModel",
      "state": {
       "children": [
        "IPY_MODEL_3f7ab0831a174f8385f539205c7443d8",
        "IPY_MODEL_9e4290ead8344db08c59dd6d93bdf8a6"
       ],
       "layout": "IPY_MODEL_00b8323798f149ae96b679568bf792d6"
      }
     },
     "b42bf6839cfc41b5baa77aff234dfbb5": {
      "model_module": "@jupyter-widgets/base",
      "model_module_version": "1.2.0",
      "model_name": "LayoutModel",
      "state": {}
     },
     "b467027ee2df4853ae6c627fb5656227": {
      "model_module": "@jupyter-widgets/base",
      "model_module_version": "1.2.0",
      "model_name": "LayoutModel",
      "state": {}
     },
     "b5611d4a20d7441a966eb9aff7a85e1b": {
      "model_module": "@jupyter-widgets/controls",
      "model_module_version": "1.5.0",
      "model_name": "DescriptionStyleModel",
      "state": {
       "description_width": ""
      }
     },
     "b5ef7d4d15a14d45ac4d6ddeb25782ba": {
      "model_module": "@jupyter-widgets/controls",
      "model_module_version": "1.5.0",
      "model_name": "IntProgressModel",
      "state": {
       "bar_style": "success",
       "description": "100%",
       "layout": "IPY_MODEL_6c6c350969db4507a36ce79ee7bc8ec2",
       "max": 469,
       "style": "IPY_MODEL_7a837b9b9d224fc38d47b39214b631b8",
       "value": 469
      }
     },
     "b63b7225e5d94ceba1f4897bf67c23d5": {
      "model_module": "@jupyter-widgets/controls",
      "model_module_version": "1.5.0",
      "model_name": "DescriptionStyleModel",
      "state": {
       "description_width": ""
      }
     },
     "b6afa3e894ff4f68ae2910264eb3825e": {
      "model_module": "@jupyter-widgets/controls",
      "model_module_version": "1.5.0",
      "model_name": "ProgressStyleModel",
      "state": {
       "description_width": "initial"
      }
     },
     "b760fe50304a4f2895afdab100ff1e81": {
      "model_module": "@jupyter-widgets/controls",
      "model_module_version": "1.5.0",
      "model_name": "HTMLModel",
      "state": {
       "layout": "IPY_MODEL_ef020e583ee1473481ca02543c18bbf2",
       "style": "IPY_MODEL_0184f55859604f80802ec2121fbd283d",
       "value": " 469/469 [00:11&lt;00:00, 41.06it/s, loss=-.988]"
      }
     },
     "b798f805bdbf42699232c2502c4fa0df": {
      "model_module": "@jupyter-widgets/controls",
      "model_module_version": "1.5.0",
      "model_name": "DescriptionStyleModel",
      "state": {
       "description_width": ""
      }
     },
     "b7ec31edef4e431d84dbe47776b4cea9": {
      "model_module": "@jupyter-widgets/base",
      "model_module_version": "1.2.0",
      "model_name": "LayoutModel",
      "state": {}
     },
     "baaa86b15bad4f8695edb6edbddd3f88": {
      "model_module": "@jupyter-widgets/controls",
      "model_module_version": "1.5.0",
      "model_name": "DescriptionStyleModel",
      "state": {
       "description_width": ""
      }
     },
     "bae8a8b50d4d4b22aae51e24e916b735": {
      "model_module": "@jupyter-widgets/controls",
      "model_module_version": "1.5.0",
      "model_name": "HBoxModel",
      "state": {
       "children": [
        "IPY_MODEL_aca1e0d89aa5450da47532a3a94b39c2",
        "IPY_MODEL_f88f57d30c8045ca8e37756285de215f"
       ],
       "layout": "IPY_MODEL_bf7bcb85b1284737963b8a53441124c6"
      }
     },
     "bc2a9ba72b754eedb2c8b518adc7607b": {
      "model_module": "@jupyter-widgets/controls",
      "model_module_version": "1.5.0",
      "model_name": "HBoxModel",
      "state": {
       "children": [
        "IPY_MODEL_aae1a856125b4c4bbdbb02188f455789",
        "IPY_MODEL_687bfd28478a4f86b21866c9683ea042"
       ],
       "layout": "IPY_MODEL_a6ef52e2e6cb48099a492f5956545862"
      }
     },
     "bf5bdaae076c44b6abd2f286598ee687": {
      "model_module": "@jupyter-widgets/controls",
      "model_module_version": "1.5.0",
      "model_name": "ProgressStyleModel",
      "state": {
       "description_width": "initial"
      }
     },
     "bf7bcb85b1284737963b8a53441124c6": {
      "model_module": "@jupyter-widgets/base",
      "model_module_version": "1.2.0",
      "model_name": "LayoutModel",
      "state": {}
     },
     "bfc297f7e1c94864996673cdd17d8bdd": {
      "model_module": "@jupyter-widgets/controls",
      "model_module_version": "1.5.0",
      "model_name": "HBoxModel",
      "state": {
       "children": [
        "IPY_MODEL_9289cb574edd4c40a5dfe8abd54f8a7f",
        "IPY_MODEL_8f1c0a04a7d84bc3836f565abd0946d0"
       ],
       "layout": "IPY_MODEL_a376ce31139946e9b4b3927ca7d816de"
      }
     },
     "c0008de7220b403081e6056b2ac8c70b": {
      "model_module": "@jupyter-widgets/controls",
      "model_module_version": "1.5.0",
      "model_name": "ProgressStyleModel",
      "state": {
       "description_width": "initial"
      }
     },
     "c0d30eb101a64d0bbb28c82e64b0d1bc": {
      "model_module": "@jupyter-widgets/controls",
      "model_module_version": "1.5.0",
      "model_name": "DescriptionStyleModel",
      "state": {
       "description_width": ""
      }
     },
     "c11fcc23aeb244b581b47d0d05c43723": {
      "model_module": "@jupyter-widgets/base",
      "model_module_version": "1.2.0",
      "model_name": "LayoutModel",
      "state": {}
     },
     "c2389efaa80e4934b642e3699426e367": {
      "model_module": "@jupyter-widgets/controls",
      "model_module_version": "1.5.0",
      "model_name": "HTMLModel",
      "state": {
       "layout": "IPY_MODEL_1e2acb6f1cf74149aeee2a8dad0addfb",
       "style": "IPY_MODEL_74ffdd1608a942188be3955c32a5d19e",
       "value": " 469/469 [01:25&lt;00:00,  5.47it/s, loss=-.916]"
      }
     },
     "c24876de14054b24bf9200ea31c9cb96": {
      "model_module": "@jupyter-widgets/controls",
      "model_module_version": "1.5.0",
      "model_name": "HTMLModel",
      "state": {
       "layout": "IPY_MODEL_effbc9011d534331948699c490fabd60",
       "style": "IPY_MODEL_671d7d5ba8174dbd8d49d82e76c6d727",
       "value": " 469/469 [00:37&lt;00:00, 12.62it/s, loss=-.899]"
      }
     },
     "c25d472704b1489a8f8f705a10452e22": {
      "model_module": "@jupyter-widgets/base",
      "model_module_version": "1.2.0",
      "model_name": "LayoutModel",
      "state": {}
     },
     "c3a778c8dfce45668550c4b8cc7fd237": {
      "model_module": "@jupyter-widgets/base",
      "model_module_version": "1.2.0",
      "model_name": "LayoutModel",
      "state": {}
     },
     "c64a89fdd636455f8cc05e057fb887d8": {
      "model_module": "@jupyter-widgets/controls",
      "model_module_version": "1.5.0",
      "model_name": "DescriptionStyleModel",
      "state": {
       "description_width": ""
      }
     },
     "c99ec01fddc841bb89d607b83a238a37": {
      "model_module": "@jupyter-widgets/base",
      "model_module_version": "1.2.0",
      "model_name": "LayoutModel",
      "state": {}
     },
     "cc04fe0b01824bc7bf1f6757b8278c79": {
      "model_module": "@jupyter-widgets/base",
      "model_module_version": "1.2.0",
      "model_name": "LayoutModel",
      "state": {}
     },
     "cd23a9e1c9864a548c29a8135ce93acc": {
      "model_module": "@jupyter-widgets/controls",
      "model_module_version": "1.5.0",
      "model_name": "IntProgressModel",
      "state": {
       "bar_style": "success",
       "description": "100%",
       "layout": "IPY_MODEL_3a786b8b3e744f09bbe4be1db78ca51b",
       "max": 469,
       "style": "IPY_MODEL_64d33dfa2ca646a69a78b367a2c67657",
       "value": 469
      }
     },
     "cd287a1f145f4c89a531f812b8b19797": {
      "model_module": "@jupyter-widgets/controls",
      "model_module_version": "1.5.0",
      "model_name": "HTMLModel",
      "state": {
       "layout": "IPY_MODEL_9c1816a06c1e442d838f9f9da81f65d1",
       "style": "IPY_MODEL_b07b14b0f26f47e1bffbefcf4d5240e6",
       "value": " 469/469 [02:46&lt;00:00,  2.82it/s, loss=-.791]"
      }
     },
     "cfe5ff310c474df0889730b68ee0bd6e": {
      "model_module": "@jupyter-widgets/controls",
      "model_module_version": "1.5.0",
      "model_name": "HBoxModel",
      "state": {
       "children": [
        "IPY_MODEL_edfd55b7ea2f4b17bb1cbbfd2e154a48",
        "IPY_MODEL_f9d57f52cf58494dba6a59a77e730e12"
       ],
       "layout": "IPY_MODEL_d5d2d6da3ad947fe8b3781752bb7c6f7"
      }
     },
     "d1b4a052334b4eec9054aaa9ea2c7cce": {
      "model_module": "@jupyter-widgets/base",
      "model_module_version": "1.2.0",
      "model_name": "LayoutModel",
      "state": {}
     },
     "d3ec17ead8534b3f86160edc35143193": {
      "model_module": "@jupyter-widgets/base",
      "model_module_version": "1.2.0",
      "model_name": "LayoutModel",
      "state": {}
     },
     "d4569b7f68ec444e933f17acab67d978": {
      "model_module": "@jupyter-widgets/base",
      "model_module_version": "1.2.0",
      "model_name": "LayoutModel",
      "state": {}
     },
     "d5d2d6da3ad947fe8b3781752bb7c6f7": {
      "model_module": "@jupyter-widgets/base",
      "model_module_version": "1.2.0",
      "model_name": "LayoutModel",
      "state": {}
     },
     "d5d4a17525a94f9fa01141dc88def953": {
      "model_module": "@jupyter-widgets/controls",
      "model_module_version": "1.5.0",
      "model_name": "IntProgressModel",
      "state": {
       "bar_style": "success",
       "description": "100%",
       "layout": "IPY_MODEL_d4569b7f68ec444e933f17acab67d978",
       "max": 469,
       "style": "IPY_MODEL_ab3e8f0db20b452283c202706bfd3cd0",
       "value": 469
      }
     },
     "d67688ce5cf7473ab7897d52af902ddc": {
      "model_module": "@jupyter-widgets/controls",
      "model_module_version": "1.5.0",
      "model_name": "HBoxModel",
      "state": {
       "children": [
        "IPY_MODEL_fe196c539c444d188386ac29310b37ae",
        "IPY_MODEL_a5d7711bd4e8454fa6746fd23c5673af"
       ],
       "layout": "IPY_MODEL_d3ec17ead8534b3f86160edc35143193"
      }
     },
     "d71d8e4e03eb4fc6b3433bdf7f40e2d2": {
      "model_module": "@jupyter-widgets/controls",
      "model_module_version": "1.5.0",
      "model_name": "HBoxModel",
      "state": {
       "children": [
        "IPY_MODEL_1646e52a75c24352ba1aa6416c8d371b",
        "IPY_MODEL_cd287a1f145f4c89a531f812b8b19797"
       ],
       "layout": "IPY_MODEL_abd8b4801f8f4daa813fccc52c3fa2af"
      }
     },
     "d773cacb10f54a06975b0bc9affd7cb3": {
      "model_module": "@jupyter-widgets/base",
      "model_module_version": "1.2.0",
      "model_name": "LayoutModel",
      "state": {}
     },
     "d86fb30688d94f6581bce1a529a3850f": {
      "model_module": "@jupyter-widgets/controls",
      "model_module_version": "1.5.0",
      "model_name": "HTMLModel",
      "state": {
       "layout": "IPY_MODEL_05bf6095c75a499ebc8a51848440f4b0",
       "style": "IPY_MODEL_791b732ab33a48b8aee2cb0d82838845",
       "value": " 469/469 [00:13&lt;00:00, 34.35it/s, loss=-.787]"
      }
     },
     "d8f66b935e234db89de7026add549b5d": {
      "model_module": "@jupyter-widgets/controls",
      "model_module_version": "1.5.0",
      "model_name": "HTMLModel",
      "state": {
       "layout": "IPY_MODEL_4591042227344c6b822001c8cd0526fa",
       "style": "IPY_MODEL_59b445fcd5804f779360d66ca46f1990",
       "value": " 300/300 [00:03&lt;00:00, 96.45it/s]"
      }
     },
     "d92762a270ea46bea27aeaef1a56a2ab": {
      "model_module": "@jupyter-widgets/controls",
      "model_module_version": "1.5.0",
      "model_name": "IntProgressModel",
      "state": {
       "bar_style": "success",
       "description": "100%",
       "layout": "IPY_MODEL_c25d472704b1489a8f8f705a10452e22",
       "max": 469,
       "style": "IPY_MODEL_f145abb4fd884cc4a0391c1e2aea178b",
       "value": 469
      }
     },
     "dbbfb2fc8ba14aafa61aa42bdd8af9e8": {
      "model_module": "@jupyter-widgets/base",
      "model_module_version": "1.2.0",
      "model_name": "LayoutModel",
      "state": {}
     },
     "dc5351f5abc04c37a26bd084a96efa73": {
      "model_module": "@jupyter-widgets/controls",
      "model_module_version": "1.5.0",
      "model_name": "DescriptionStyleModel",
      "state": {
       "description_width": ""
      }
     },
     "dc7789ac73c04181a7a61eae3a81e150": {
      "model_module": "@jupyter-widgets/controls",
      "model_module_version": "1.5.0",
      "model_name": "DescriptionStyleModel",
      "state": {
       "description_width": ""
      }
     },
     "de52b2af74c24ff6bb44f8884b63f81a": {
      "model_module": "@jupyter-widgets/controls",
      "model_module_version": "1.5.0",
      "model_name": "HTMLModel",
      "state": {
       "layout": "IPY_MODEL_a0ccde87d739424ea595d77ab8c49b92",
       "style": "IPY_MODEL_264748bd7fd94d40a549d6211bf5a333",
       "value": " 10000/10000 [07:45&lt;00:00, 21.46it/s]"
      }
     },
     "deb7f17b0f6547e99e00e6a7e4d19431": {
      "model_module": "@jupyter-widgets/controls",
      "model_module_version": "1.5.0",
      "model_name": "HBoxModel",
      "state": {
       "children": [
        "IPY_MODEL_6d6488b58f84471fbb8f7cbebab4b182",
        "IPY_MODEL_10adbee3cc294c379b5c6df7ff1e33ea"
       ],
       "layout": "IPY_MODEL_70669da285b54d10ad28f1af78a1aecd"
      }
     },
     "e191dfe8d5174bcea0686238a3a08c15": {
      "model_module": "@jupyter-widgets/controls",
      "model_module_version": "1.5.0",
      "model_name": "ProgressStyleModel",
      "state": {
       "description_width": "initial"
      }
     },
     "e2d656d7f48444c29e0121a5ed5b4062": {
      "model_module": "@jupyter-widgets/controls",
      "model_module_version": "1.5.0",
      "model_name": "HBoxModel",
      "state": {
       "children": [
        "IPY_MODEL_a87d6e0e57874875b8070ede40f3594f",
        "IPY_MODEL_15fc7d91d4cb4b96bba368d957dffe9c"
       ],
       "layout": "IPY_MODEL_736b7a06238241d2948b8117fe625a9a"
      }
     },
     "e6abed82593e4d78a934151a9370d737": {
      "model_module": "@jupyter-widgets/controls",
      "model_module_version": "1.5.0",
      "model_name": "HBoxModel",
      "state": {
       "children": [
        "IPY_MODEL_12a082d26cb747c1b74f50d4031fe71a",
        "IPY_MODEL_ed5e86888daf4c80a9fbad07a9882484"
       ],
       "layout": "IPY_MODEL_05e63e9bdf204d5f8e4f2c7c90fc2ffc"
      }
     },
     "ebe084d3b64b4d6e959845a51ffc12d9": {
      "model_module": "@jupyter-widgets/controls",
      "model_module_version": "1.5.0",
      "model_name": "HTMLModel",
      "state": {
       "layout": "IPY_MODEL_f10fe73181f745648910a7243962ec79",
       "style": "IPY_MODEL_4f7d3438d0ed4f5d962662bfc5d8c538",
       "value": " 469/469 [00:24&lt;00:00, 19.15it/s, loss=-.985]"
      }
     },
     "ecf83a9e275c43bdb810a0cfec93c118": {
      "model_module": "@jupyter-widgets/base",
      "model_module_version": "1.2.0",
      "model_name": "LayoutModel",
      "state": {}
     },
     "ed1cdd18611c4923a9dc5f899ec669a3": {
      "model_module": "@jupyter-widgets/controls",
      "model_module_version": "1.5.0",
      "model_name": "HTMLModel",
      "state": {
       "layout": "IPY_MODEL_0ed84abe30854ddea79c1dc5d2466352",
       "style": "IPY_MODEL_8f40369ffddc4a74b910d68c6cac23bf",
       "value": " 469/469 [00:31&lt;00:00, 14.74it/s, loss=-.979]"
      }
     },
     "ed5e86888daf4c80a9fbad07a9882484": {
      "model_module": "@jupyter-widgets/controls",
      "model_module_version": "1.5.0",
      "model_name": "HTMLModel",
      "state": {
       "layout": "IPY_MODEL_18b6096a64cd4681beb5f06da648c1ea",
       "style": "IPY_MODEL_ff2b3825e56a41c7b6c628b3e3965c78",
       "value": " 469/469 [06:55&lt;00:00,  1.13it/s, loss=-.794]"
      }
     },
     "ed9ec0db3eaf49c7bae91a3b711590b0": {
      "model_module": "@jupyter-widgets/controls",
      "model_module_version": "1.5.0",
      "model_name": "ProgressStyleModel",
      "state": {
       "description_width": "initial"
      }
     },
     "edfd55b7ea2f4b17bb1cbbfd2e154a48": {
      "model_module": "@jupyter-widgets/controls",
      "model_module_version": "1.5.0",
      "model_name": "IntProgressModel",
      "state": {
       "bar_style": "success",
       "description": "100%",
       "layout": "IPY_MODEL_0b1b58085a3448dbb405d1c4a70a63d8",
       "max": 469,
       "style": "IPY_MODEL_06f705f9a4cd4bccbafa947a1e1cece0",
       "value": 469
      }
     },
     "ef020e583ee1473481ca02543c18bbf2": {
      "model_module": "@jupyter-widgets/base",
      "model_module_version": "1.2.0",
      "model_name": "LayoutModel",
      "state": {}
     },
     "effbc9011d534331948699c490fabd60": {
      "model_module": "@jupyter-widgets/base",
      "model_module_version": "1.2.0",
      "model_name": "LayoutModel",
      "state": {}
     },
     "f10fe73181f745648910a7243962ec79": {
      "model_module": "@jupyter-widgets/base",
      "model_module_version": "1.2.0",
      "model_name": "LayoutModel",
      "state": {}
     },
     "f145abb4fd884cc4a0391c1e2aea178b": {
      "model_module": "@jupyter-widgets/controls",
      "model_module_version": "1.5.0",
      "model_name": "ProgressStyleModel",
      "state": {
       "description_width": "initial"
      }
     },
     "f5ef842c3f60473a8f070417a32d1204": {
      "model_module": "@jupyter-widgets/controls",
      "model_module_version": "1.5.0",
      "model_name": "HBoxModel",
      "state": {
       "children": [
        "IPY_MODEL_2fd07e4e470946ab8ba87eefa92b59d7",
        "IPY_MODEL_57bb7288d0d24740be5bbde9621c2fc1"
       ],
       "layout": "IPY_MODEL_b42bf6839cfc41b5baa77aff234dfbb5"
      }
     },
     "f88f57d30c8045ca8e37756285de215f": {
      "model_module": "@jupyter-widgets/controls",
      "model_module_version": "1.5.0",
      "model_name": "HTMLModel",
      "state": {
       "layout": "IPY_MODEL_9d123da1a6af4c06aa01ebfb79dfac2e",
       "style": "IPY_MODEL_7b5b89840e654f27b11cc92595744a16",
       "value": " 0/300 [00:00&lt;?, ?it/s]"
      }
     },
     "f8aabacebbb34983850a23e547f56a25": {
      "model_module": "@jupyter-widgets/base",
      "model_module_version": "1.2.0",
      "model_name": "LayoutModel",
      "state": {}
     },
     "f9d57f52cf58494dba6a59a77e730e12": {
      "model_module": "@jupyter-widgets/controls",
      "model_module_version": "1.5.0",
      "model_name": "HTMLModel",
      "state": {
       "layout": "IPY_MODEL_723aba8fc7634ec08de8771c0e79e0a9",
       "style": "IPY_MODEL_784a12c0e0544266b40633001574a755",
       "value": " 469/469 [00:21&lt;00:00, 21.65it/s, loss=-.995]"
      }
     },
     "fad1149b071e4369b39ab4ea0abac36c": {
      "model_module": "@jupyter-widgets/base",
      "model_module_version": "1.2.0",
      "model_name": "LayoutModel",
      "state": {}
     },
     "fbe69d6fc8134ce59042947bebd5abfc": {
      "model_module": "@jupyter-widgets/base",
      "model_module_version": "1.2.0",
      "model_name": "LayoutModel",
      "state": {}
     },
     "fe196c539c444d188386ac29310b37ae": {
      "model_module": "@jupyter-widgets/controls",
      "model_module_version": "1.5.0",
      "model_name": "IntProgressModel",
      "state": {
       "bar_style": "success",
       "description": "100%",
       "layout": "IPY_MODEL_6b06cf308eb4489b98364d8c87bbc07a",
       "max": 469,
       "style": "IPY_MODEL_0658354ea2c3417688d92a8a89a35bc1",
       "value": 469
      }
     },
     "ff2b3825e56a41c7b6c628b3e3965c78": {
      "model_module": "@jupyter-widgets/controls",
      "model_module_version": "1.5.0",
      "model_name": "DescriptionStyleModel",
      "state": {
       "description_width": ""
      }
     },
     "ff9f29566e8d45ab9991b5439b86bcc4": {
      "model_module": "@jupyter-widgets/base",
      "model_module_version": "1.2.0",
      "model_name": "LayoutModel",
      "state": {}
     }
    },
    "version_major": 2,
    "version_minor": 0
   }
  }
 },
 "nbformat": 4,
 "nbformat_minor": 4
}
